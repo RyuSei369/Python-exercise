{
 "cells": [
  {
   "cell_type": "code",
   "execution_count": 1,
   "id": "d954e20d-a4f9-4878-a7e1-e15a4da2ad05",
   "metadata": {},
   "outputs": [],
   "source": [
    "import pandas as pd"
   ]
  },
  {
   "cell_type": "code",
   "execution_count": 3,
   "id": "a5e42dc4-e0d7-44c6-81e9-2deac9d59017",
   "metadata": {},
   "outputs": [
    {
     "data": {
      "text/html": [
       "<div>\n",
       "<style scoped>\n",
       "    .dataframe tbody tr th:only-of-type {\n",
       "        vertical-align: middle;\n",
       "    }\n",
       "\n",
       "    .dataframe tbody tr th {\n",
       "        vertical-align: top;\n",
       "    }\n",
       "\n",
       "    .dataframe thead th {\n",
       "        text-align: right;\n",
       "    }\n",
       "</style>\n",
       "<table border=\"1\" class=\"dataframe\">\n",
       "  <thead>\n",
       "    <tr style=\"text-align: right;\">\n",
       "      <th></th>\n",
       "      <th>0</th>\n",
       "      <th>1</th>\n",
       "      <th>2</th>\n",
       "    </tr>\n",
       "  </thead>\n",
       "  <tbody>\n",
       "    <tr>\n",
       "      <th>0</th>\n",
       "      <td>1</td>\n",
       "      <td>2</td>\n",
       "      <td>3</td>\n",
       "    </tr>\n",
       "    <tr>\n",
       "      <th>1</th>\n",
       "      <td>4</td>\n",
       "      <td>5</td>\n",
       "      <td>6</td>\n",
       "    </tr>\n",
       "  </tbody>\n",
       "</table>\n",
       "</div>"
      ],
      "text/plain": [
       "   0  1  2\n",
       "0  1  2  3\n",
       "1  4  5  6"
      ]
     },
     "execution_count": 3,
     "metadata": {},
     "output_type": "execute_result"
    }
   ],
   "source": [
    "df = pd.DataFrame([[1, 2, 3],[4, 5, 6]])\n",
    "df"
   ]
  },
  {
   "cell_type": "code",
   "execution_count": 6,
   "id": "d21406cd-5b5f-4f7b-920b-1876d933a32e",
   "metadata": {},
   "outputs": [
    {
     "name": "stdout",
     "output_type": "stream",
     "text": [
      "<class 'pandas.core.frame.DataFrame'>\n",
      "RangeIndex: 2 entries, 0 to 1\n",
      "Data columns (total 3 columns):\n",
      " #   Column  Non-Null Count  Dtype\n",
      "---  ------  --------------  -----\n",
      " 0   0       2 non-null      int64\n",
      " 1   1       2 non-null      int64\n",
      " 2   2       2 non-null      int64\n",
      "dtypes: int64(3)\n",
      "memory usage: 180.0 bytes\n"
     ]
    },
    {
     "data": {
      "text/plain": [
       "((2, 3), None)"
      ]
     },
     "execution_count": 6,
     "metadata": {},
     "output_type": "execute_result"
    }
   ],
   "source": [
    "df.shape, df.info()"
   ]
  },
  {
   "cell_type": "code",
   "execution_count": 7,
   "id": "fe1833ba-58ac-405c-b45d-330f5c692c53",
   "metadata": {},
   "outputs": [
    {
     "data": {
      "text/html": [
       "<div>\n",
       "<style scoped>\n",
       "    .dataframe tbody tr th:only-of-type {\n",
       "        vertical-align: middle;\n",
       "    }\n",
       "\n",
       "    .dataframe tbody tr th {\n",
       "        vertical-align: top;\n",
       "    }\n",
       "\n",
       "    .dataframe thead th {\n",
       "        text-align: right;\n",
       "    }\n",
       "</style>\n",
       "<table border=\"1\" class=\"dataframe\">\n",
       "  <thead>\n",
       "    <tr style=\"text-align: right;\">\n",
       "      <th></th>\n",
       "      <th>0</th>\n",
       "      <th>1</th>\n",
       "      <th>2</th>\n",
       "    </tr>\n",
       "  </thead>\n",
       "  <tbody>\n",
       "    <tr>\n",
       "      <th>0</th>\n",
       "      <td>1.0</td>\n",
       "      <td>2.0</td>\n",
       "      <td>3.0</td>\n",
       "    </tr>\n",
       "    <tr>\n",
       "      <th>1</th>\n",
       "      <td>4.0</td>\n",
       "      <td>5.0</td>\n",
       "      <td>6.0</td>\n",
       "    </tr>\n",
       "  </tbody>\n",
       "</table>\n",
       "</div>"
      ],
      "text/plain": [
       "     0    1    2\n",
       "0  1.0  2.0  3.0\n",
       "1  4.0  5.0  6.0"
      ]
     },
     "execution_count": 7,
     "metadata": {},
     "output_type": "execute_result"
    }
   ],
   "source": [
    "df.astype(float)"
   ]
  },
  {
   "cell_type": "markdown",
   "id": "4d219cac-eb6b-49ed-95c7-20daa9cb1109",
   "metadata": {},
   "source": [
    "### 绘图   →   history.plot()"
   ]
  },
  {
   "cell_type": "markdown",
   "id": "6b956f16-5b35-40ce-8874-3e49e02b5ff8",
   "metadata": {},
   "source": [
    "### import matplotlib.pyplot as plt     →    如果要列表显示汉字之类的情况下要用 matplotlib.pyplot 这个包\n",
    "### plt.raParans['font.family'] = 'SinHei'   →    把字体变成雅黑"
   ]
  },
  {
   "cell_type": "markdown",
   "id": "1e0b5d1a-489b-409e-af74-bd1c9dfa81fa",
   "metadata": {},
   "source": [
    "### 折线图     eg→   history.groupby('投放日期')['GMV'].sum().plot(kind='line', x='投放日期'， y= 'GMV')"
   ]
  },
  {
   "cell_type": "markdown",
   "id": "01e2dd37-e2a1-4c76-b84f-2287d427f947",
   "metadata": {},
   "source": [
    "### 柱状图     eg→   history.groupby('广告计划ID')['GMV'].sum().plot(kind='bar', x='广告计划ID'， y= 'GMV')"
   ]
  },
  {
   "cell_type": "markdown",
   "id": "8bfc44d7-d699-41b9-9822-c3a978ce9cfd",
   "metadata": {},
   "source": [
    "### 水平柱状图    eg→   history.groupby('广告计划ID')['GMV'].sum().plot(kind='barh', x='广告计划ID'， y= 'GMV')"
   ]
  },
  {
   "cell_type": "markdown",
   "id": "ded05286-22a1-4f59-ab7a-3e2bf27fac6d",
   "metadata": {},
   "source": [
    "### 直方图    eg→   history['GMV'].plot(kind='hist')"
   ]
  },
  {
   "cell_type": "markdown",
   "id": "241a295a-e4a1-4ec6-984d-ddfd06215f68",
   "metadata": {},
   "source": [
    "### 散点图    eg→   history.plot(kind='scatter',x= 'GMV', y='消耗')"
   ]
  },
  {
   "cell_type": "markdown",
   "id": "ffb2426a-7ac3-4796-bb26-a224ed738a56",
   "metadata": {},
   "source": [
    "### 数据类型为Dataframe时  apply, applymap\n",
    "\n",
    "### def demo(x):\n",
    "### formular = x['客单价'] + x['消耗'] + x['直播间曝光数']\n",
    "### return formular\n",
    "### history_list.apply(demo, axis=1)       apply方法默认   axis=0，注意此处"
   ]
  },
  {
   "cell_type": "markdown",
   "id": "502b5d97-5848-4c6d-830c-498992cd135e",
   "metadata": {},
   "source": [
    "### 饼图      eg→   history.groupby('广告计划ID')['GMV'].sum().plot(kind='pie')"
   ]
  },
  {
   "cell_type": "markdown",
   "id": "08897459-6c37-48e4-8abf-7fb2da079639",
   "metadata": {},
   "source": [
    "### PyGWalker   → import pygwalker as pw     好评！！很像tableau\n",
    "### pw.walk(history_list)"
   ]
  },
  {
   "cell_type": "markdown",
   "id": "d743e551-568f-4b7c-abc8-fb05938025de",
   "metadata": {},
   "source": [
    "### 数据类型为Series时   map,apply方法\n",
    "\n",
    "### history_list['人群标签'].map({'数据分析': '数分'})       NOTE！！！！！！！！！map可以用于很多规则，apply只能用于函数规则\n",
    "\n",
    "### history_list['GMV'].map((lambda x:int(x)))"
   ]
  },
  {
   "cell_type": "markdown",
   "id": "b7f312d3-3eba-4d89-a63c-5b3ff73c4cc4",
   "metadata": {},
   "source": [
    "# 4 用户画像"
   ]
  },
  {
   "cell_type": "markdown",
   "id": "e5e195ab-46da-4d5c-add2-09877965a84e",
   "metadata": {},
   "source": [
    "## 4.1 用户处理"
   ]
  },
  {
   "cell_type": "code",
   "execution_count": 9,
   "id": "0385e37e-4853-4303-b27b-3e12a77b48ef",
   "metadata": {},
   "outputs": [
    {
     "data": {
      "text/plain": [
       "datetime.datetime(2024, 1, 1, 1, 1, 1)"
      ]
     },
     "execution_count": 9,
     "metadata": {},
     "output_type": "execute_result"
    }
   ],
   "source": [
    "from datetime import datetime\n",
    "\n",
    "d1 = datetime(2024,1,1,1,1,1)\n",
    "d1"
   ]
  },
  {
   "cell_type": "code",
   "execution_count": 12,
   "id": "f41c788e-9aa4-460d-b3b0-a126249b1d9c",
   "metadata": {},
   "outputs": [],
   "source": [
    "s1 = d1.strftime(\"%Y/%m/%d %H:%M:%S\")"
   ]
  },
  {
   "cell_type": "code",
   "execution_count": 13,
   "id": "03db2e60-757c-4b33-bbda-c6464affc8f2",
   "metadata": {},
   "outputs": [
    {
     "data": {
      "text/plain": [
       "'2024/01/01 01:01:01'"
      ]
     },
     "execution_count": 13,
     "metadata": {},
     "output_type": "execute_result"
    }
   ],
   "source": [
    "s1"
   ]
  },
  {
   "cell_type": "code",
   "execution_count": null,
   "id": "353d73fe-ce73-4e32-aa2e-0c459fb6be78",
   "metadata": {},
   "outputs": [],
   "source": []
  }
 ],
 "metadata": {
  "kernelspec": {
   "display_name": "Python 3 (ipykernel)",
   "language": "python",
   "name": "python3"
  },
  "language_info": {
   "codemirror_mode": {
    "name": "ipython",
    "version": 3
   },
   "file_extension": ".py",
   "mimetype": "text/x-python",
   "name": "python",
   "nbconvert_exporter": "python",
   "pygments_lexer": "ipython3",
   "version": "3.12.3"
  }
 },
 "nbformat": 4,
 "nbformat_minor": 5
}
